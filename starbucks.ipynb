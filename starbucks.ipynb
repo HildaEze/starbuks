{
 "cells": [
  {
   "cell_type": "markdown",
   "id": "4b20c003",
   "metadata": {},
   "source": [
    "Importing important libaries"
   ]
  },
  {
   "cell_type": "code",
   "execution_count": 3,
   "id": "73b03ac4",
   "metadata": {},
   "outputs": [],
   "source": [
    "import numpy as np\n",
    "import pandas as pd\n",
    "import matplotlib.pyplot as plt\n",
    "%matplotlib inline\n",
    "import seaborn as sns\n",
    "import plotly.express as px"
   ]
  },
  {
   "cell_type": "markdown",
   "id": "d94899b4",
   "metadata": {},
   "source": [
    "Reading the dataset"
   ]
  },
  {
   "cell_type": "code",
   "execution_count": 4,
   "id": "d5efd342",
   "metadata": {},
   "outputs": [
    {
     "data": {
      "text/html": [
       "<div>\n",
       "<style scoped>\n",
       "    .dataframe tbody tr th:only-of-type {\n",
       "        vertical-align: middle;\n",
       "    }\n",
       "\n",
       "    .dataframe tbody tr th {\n",
       "        vertical-align: top;\n",
       "    }\n",
       "\n",
       "    .dataframe thead th {\n",
       "        text-align: right;\n",
       "    }\n",
       "</style>\n",
       "<table border=\"1\" class=\"dataframe\">\n",
       "  <thead>\n",
       "    <tr style=\"text-align: right;\">\n",
       "      <th></th>\n",
       "      <th>Unnamed: 0</th>\n",
       "      <th>item</th>\n",
       "      <th>calories</th>\n",
       "      <th>fat</th>\n",
       "      <th>carb</th>\n",
       "      <th>fiber</th>\n",
       "      <th>protein</th>\n",
       "      <th>type</th>\n",
       "    </tr>\n",
       "  </thead>\n",
       "  <tbody>\n",
       "    <tr>\n",
       "      <th>0</th>\n",
       "      <td>1</td>\n",
       "      <td>8-Grain Roll</td>\n",
       "      <td>350</td>\n",
       "      <td>8.0</td>\n",
       "      <td>67</td>\n",
       "      <td>5</td>\n",
       "      <td>10</td>\n",
       "      <td>bakery</td>\n",
       "    </tr>\n",
       "    <tr>\n",
       "      <th>1</th>\n",
       "      <td>2</td>\n",
       "      <td>Apple Bran Muffin</td>\n",
       "      <td>350</td>\n",
       "      <td>9.0</td>\n",
       "      <td>64</td>\n",
       "      <td>7</td>\n",
       "      <td>6</td>\n",
       "      <td>bakery</td>\n",
       "    </tr>\n",
       "    <tr>\n",
       "      <th>2</th>\n",
       "      <td>3</td>\n",
       "      <td>Apple Fritter</td>\n",
       "      <td>420</td>\n",
       "      <td>20.0</td>\n",
       "      <td>59</td>\n",
       "      <td>0</td>\n",
       "      <td>5</td>\n",
       "      <td>bakery</td>\n",
       "    </tr>\n",
       "    <tr>\n",
       "      <th>3</th>\n",
       "      <td>4</td>\n",
       "      <td>Banana Nut Loaf</td>\n",
       "      <td>490</td>\n",
       "      <td>19.0</td>\n",
       "      <td>75</td>\n",
       "      <td>4</td>\n",
       "      <td>7</td>\n",
       "      <td>bakery</td>\n",
       "    </tr>\n",
       "    <tr>\n",
       "      <th>4</th>\n",
       "      <td>5</td>\n",
       "      <td>Birthday Cake Mini Doughnut</td>\n",
       "      <td>130</td>\n",
       "      <td>6.0</td>\n",
       "      <td>17</td>\n",
       "      <td>0</td>\n",
       "      <td>0</td>\n",
       "      <td>bakery</td>\n",
       "    </tr>\n",
       "  </tbody>\n",
       "</table>\n",
       "</div>"
      ],
      "text/plain": [
       "   Unnamed: 0                         item  calories   fat  carb  fiber  \\\n",
       "0           1                 8-Grain Roll       350   8.0    67      5   \n",
       "1           2            Apple Bran Muffin       350   9.0    64      7   \n",
       "2           3                Apple Fritter       420  20.0    59      0   \n",
       "3           4              Banana Nut Loaf       490  19.0    75      4   \n",
       "4           5  Birthday Cake Mini Doughnut       130   6.0    17      0   \n",
       "\n",
       "   protein    type  \n",
       "0       10  bakery  \n",
       "1        6  bakery  \n",
       "2        5  bakery  \n",
       "3        7  bakery  \n",
       "4        0  bakery  "
      ]
     },
     "execution_count": 4,
     "metadata": {},
     "output_type": "execute_result"
    }
   ],
   "source": [
    "db= pd.read_csv(r'C:\\Users\\User\\Desktop\\data project\\starbucks.csv')\n",
    "db.head()"
   ]
  },
  {
   "cell_type": "code",
   "execution_count": 5,
   "id": "25d27b5e",
   "metadata": {},
   "outputs": [
    {
     "data": {
      "text/html": [
       "<div>\n",
       "<style scoped>\n",
       "    .dataframe tbody tr th:only-of-type {\n",
       "        vertical-align: middle;\n",
       "    }\n",
       "\n",
       "    .dataframe tbody tr th {\n",
       "        vertical-align: top;\n",
       "    }\n",
       "\n",
       "    .dataframe thead th {\n",
       "        text-align: right;\n",
       "    }\n",
       "</style>\n",
       "<table border=\"1\" class=\"dataframe\">\n",
       "  <thead>\n",
       "    <tr style=\"text-align: right;\">\n",
       "      <th></th>\n",
       "      <th>Unnamed: 0</th>\n",
       "      <th>calories</th>\n",
       "      <th>fat</th>\n",
       "      <th>carb</th>\n",
       "      <th>fiber</th>\n",
       "      <th>protein</th>\n",
       "    </tr>\n",
       "  </thead>\n",
       "  <tbody>\n",
       "    <tr>\n",
       "      <th>count</th>\n",
       "      <td>77.000000</td>\n",
       "      <td>77.000000</td>\n",
       "      <td>77.000000</td>\n",
       "      <td>77.000000</td>\n",
       "      <td>77.000000</td>\n",
       "      <td>77.000000</td>\n",
       "    </tr>\n",
       "    <tr>\n",
       "      <th>mean</th>\n",
       "      <td>39.000000</td>\n",
       "      <td>338.831169</td>\n",
       "      <td>13.766234</td>\n",
       "      <td>44.870130</td>\n",
       "      <td>2.220779</td>\n",
       "      <td>9.480519</td>\n",
       "    </tr>\n",
       "    <tr>\n",
       "      <th>std</th>\n",
       "      <td>22.371857</td>\n",
       "      <td>105.368701</td>\n",
       "      <td>7.095488</td>\n",
       "      <td>16.551634</td>\n",
       "      <td>2.112764</td>\n",
       "      <td>8.079556</td>\n",
       "    </tr>\n",
       "    <tr>\n",
       "      <th>min</th>\n",
       "      <td>1.000000</td>\n",
       "      <td>80.000000</td>\n",
       "      <td>0.000000</td>\n",
       "      <td>16.000000</td>\n",
       "      <td>0.000000</td>\n",
       "      <td>0.000000</td>\n",
       "    </tr>\n",
       "    <tr>\n",
       "      <th>25%</th>\n",
       "      <td>20.000000</td>\n",
       "      <td>300.000000</td>\n",
       "      <td>9.000000</td>\n",
       "      <td>31.000000</td>\n",
       "      <td>0.000000</td>\n",
       "      <td>5.000000</td>\n",
       "    </tr>\n",
       "    <tr>\n",
       "      <th>50%</th>\n",
       "      <td>39.000000</td>\n",
       "      <td>350.000000</td>\n",
       "      <td>13.000000</td>\n",
       "      <td>45.000000</td>\n",
       "      <td>2.000000</td>\n",
       "      <td>7.000000</td>\n",
       "    </tr>\n",
       "    <tr>\n",
       "      <th>75%</th>\n",
       "      <td>58.000000</td>\n",
       "      <td>420.000000</td>\n",
       "      <td>18.000000</td>\n",
       "      <td>59.000000</td>\n",
       "      <td>4.000000</td>\n",
       "      <td>15.000000</td>\n",
       "    </tr>\n",
       "    <tr>\n",
       "      <th>max</th>\n",
       "      <td>77.000000</td>\n",
       "      <td>500.000000</td>\n",
       "      <td>28.000000</td>\n",
       "      <td>80.000000</td>\n",
       "      <td>7.000000</td>\n",
       "      <td>34.000000</td>\n",
       "    </tr>\n",
       "  </tbody>\n",
       "</table>\n",
       "</div>"
      ],
      "text/plain": [
       "       Unnamed: 0    calories        fat       carb      fiber    protein\n",
       "count   77.000000   77.000000  77.000000  77.000000  77.000000  77.000000\n",
       "mean    39.000000  338.831169  13.766234  44.870130   2.220779   9.480519\n",
       "std     22.371857  105.368701   7.095488  16.551634   2.112764   8.079556\n",
       "min      1.000000   80.000000   0.000000  16.000000   0.000000   0.000000\n",
       "25%     20.000000  300.000000   9.000000  31.000000   0.000000   5.000000\n",
       "50%     39.000000  350.000000  13.000000  45.000000   2.000000   7.000000\n",
       "75%     58.000000  420.000000  18.000000  59.000000   4.000000  15.000000\n",
       "max     77.000000  500.000000  28.000000  80.000000   7.000000  34.000000"
      ]
     },
     "execution_count": 5,
     "metadata": {},
     "output_type": "execute_result"
    }
   ],
   "source": [
    "db.describe()"
   ]
  },
  {
   "cell_type": "code",
   "execution_count": 6,
   "id": "d9ac4f58",
   "metadata": {},
   "outputs": [
    {
     "data": {
      "text/html": [
       "<div>\n",
       "<style scoped>\n",
       "    .dataframe tbody tr th:only-of-type {\n",
       "        vertical-align: middle;\n",
       "    }\n",
       "\n",
       "    .dataframe tbody tr th {\n",
       "        vertical-align: top;\n",
       "    }\n",
       "\n",
       "    .dataframe thead th {\n",
       "        text-align: right;\n",
       "    }\n",
       "</style>\n",
       "<table border=\"1\" class=\"dataframe\">\n",
       "  <thead>\n",
       "    <tr style=\"text-align: right;\">\n",
       "      <th></th>\n",
       "      <th>count</th>\n",
       "      <th>mean</th>\n",
       "      <th>std</th>\n",
       "      <th>min</th>\n",
       "      <th>25%</th>\n",
       "      <th>50%</th>\n",
       "      <th>75%</th>\n",
       "      <th>max</th>\n",
       "    </tr>\n",
       "  </thead>\n",
       "  <tbody>\n",
       "    <tr>\n",
       "      <th>Unnamed: 0</th>\n",
       "      <td>77.0</td>\n",
       "      <td>39.000000</td>\n",
       "      <td>22.371857</td>\n",
       "      <td>1.0</td>\n",
       "      <td>20.0</td>\n",
       "      <td>39.0</td>\n",
       "      <td>58.0</td>\n",
       "      <td>77.0</td>\n",
       "    </tr>\n",
       "    <tr>\n",
       "      <th>calories</th>\n",
       "      <td>77.0</td>\n",
       "      <td>338.831169</td>\n",
       "      <td>105.368701</td>\n",
       "      <td>80.0</td>\n",
       "      <td>300.0</td>\n",
       "      <td>350.0</td>\n",
       "      <td>420.0</td>\n",
       "      <td>500.0</td>\n",
       "    </tr>\n",
       "    <tr>\n",
       "      <th>fat</th>\n",
       "      <td>77.0</td>\n",
       "      <td>13.766234</td>\n",
       "      <td>7.095488</td>\n",
       "      <td>0.0</td>\n",
       "      <td>9.0</td>\n",
       "      <td>13.0</td>\n",
       "      <td>18.0</td>\n",
       "      <td>28.0</td>\n",
       "    </tr>\n",
       "    <tr>\n",
       "      <th>carb</th>\n",
       "      <td>77.0</td>\n",
       "      <td>44.870130</td>\n",
       "      <td>16.551634</td>\n",
       "      <td>16.0</td>\n",
       "      <td>31.0</td>\n",
       "      <td>45.0</td>\n",
       "      <td>59.0</td>\n",
       "      <td>80.0</td>\n",
       "    </tr>\n",
       "    <tr>\n",
       "      <th>fiber</th>\n",
       "      <td>77.0</td>\n",
       "      <td>2.220779</td>\n",
       "      <td>2.112764</td>\n",
       "      <td>0.0</td>\n",
       "      <td>0.0</td>\n",
       "      <td>2.0</td>\n",
       "      <td>4.0</td>\n",
       "      <td>7.0</td>\n",
       "    </tr>\n",
       "    <tr>\n",
       "      <th>protein</th>\n",
       "      <td>77.0</td>\n",
       "      <td>9.480519</td>\n",
       "      <td>8.079556</td>\n",
       "      <td>0.0</td>\n",
       "      <td>5.0</td>\n",
       "      <td>7.0</td>\n",
       "      <td>15.0</td>\n",
       "      <td>34.0</td>\n",
       "    </tr>\n",
       "  </tbody>\n",
       "</table>\n",
       "</div>"
      ],
      "text/plain": [
       "            count        mean         std   min    25%    50%    75%    max\n",
       "Unnamed: 0   77.0   39.000000   22.371857   1.0   20.0   39.0   58.0   77.0\n",
       "calories     77.0  338.831169  105.368701  80.0  300.0  350.0  420.0  500.0\n",
       "fat          77.0   13.766234    7.095488   0.0    9.0   13.0   18.0   28.0\n",
       "carb         77.0   44.870130   16.551634  16.0   31.0   45.0   59.0   80.0\n",
       "fiber        77.0    2.220779    2.112764   0.0    0.0    2.0    4.0    7.0\n",
       "protein      77.0    9.480519    8.079556   0.0    5.0    7.0   15.0   34.0"
      ]
     },
     "execution_count": 6,
     "metadata": {},
     "output_type": "execute_result"
    }
   ],
   "source": [
    "db.describe().transpose()"
   ]
  },
  {
   "cell_type": "code",
   "execution_count": 7,
   "id": "6053cd5d",
   "metadata": {},
   "outputs": [
    {
     "name": "stdout",
     "output_type": "stream",
     "text": [
      "<class 'pandas.core.frame.DataFrame'>\n",
      "RangeIndex: 77 entries, 0 to 76\n",
      "Data columns (total 8 columns):\n",
      " #   Column      Non-Null Count  Dtype  \n",
      "---  ------      --------------  -----  \n",
      " 0   Unnamed: 0  77 non-null     int64  \n",
      " 1   item        77 non-null     object \n",
      " 2   calories    77 non-null     int64  \n",
      " 3   fat         77 non-null     float64\n",
      " 4   carb        77 non-null     int64  \n",
      " 5   fiber       77 non-null     int64  \n",
      " 6   protein     77 non-null     int64  \n",
      " 7   type        77 non-null     object \n",
      "dtypes: float64(1), int64(5), object(2)\n",
      "memory usage: 4.9+ KB\n"
     ]
    }
   ],
   "source": [
    "db.info()"
   ]
  },
  {
   "cell_type": "code",
   "execution_count": 8,
   "id": "512224d7",
   "metadata": {},
   "outputs": [
    {
     "data": {
      "text/plain": [
       "Index(['Unnamed: 0', 'item', 'calories', 'fat', 'carb', 'fiber', 'protein',\n",
       "       'type'],\n",
       "      dtype='object')"
      ]
     },
     "execution_count": 8,
     "metadata": {},
     "output_type": "execute_result"
    }
   ],
   "source": [
    "db.columns"
   ]
  },
  {
   "cell_type": "code",
   "execution_count": 9,
   "id": "964d59af",
   "metadata": {},
   "outputs": [
    {
     "data": {
      "text/plain": [
       "77"
      ]
     },
     "execution_count": 9,
     "metadata": {},
     "output_type": "execute_result"
    }
   ],
   "source": [
    "db['item'].nunique()"
   ]
  },
  {
   "cell_type": "markdown",
   "id": "bdda4f27",
   "metadata": {},
   "source": [
    "Data Cleaning"
   ]
  },
  {
   "cell_type": "code",
   "execution_count": 10,
   "id": "d10f6241",
   "metadata": {},
   "outputs": [
    {
     "data": {
      "text/plain": [
       "Unnamed: 0    0\n",
       "item          0\n",
       "calories      0\n",
       "fat           0\n",
       "carb          0\n",
       "fiber         0\n",
       "protein       0\n",
       "type          0\n",
       "dtype: int64"
      ]
     },
     "execution_count": 10,
     "metadata": {},
     "output_type": "execute_result"
    }
   ],
   "source": [
    "db.isnull().sum()"
   ]
  },
  {
   "cell_type": "markdown",
   "id": "94d109ea",
   "metadata": {},
   "source": [
    "Data Visulization"
   ]
  },
  {
   "cell_type": "code",
   "execution_count": 11,
   "id": "ad941e55",
   "metadata": {},
   "outputs": [
    {
     "data": {
      "text/plain": [
       "Text(0.5, 1.0, 'Types of Products Avalible')"
      ]
     },
     "execution_count": 11,
     "metadata": {},
     "output_type": "execute_result"
    },
    {
     "data": {
      "image/png": "[encoded data removed]",
      "text/plain": [
       "<Figure size 864x504 with 1 Axes>"
      ]
     },
     "metadata": {},
     "output_type": "display_data"
    }
   ],
   "source": [
    "plt.figure(facecolor='white',figsize=(12,7))\n",
    "sns.countplot(data = db,x ='type')\n",
    "plt.title(\"Types of Products Avalible\")"
   ]
  },
  {
   "cell_type": "code",
   "execution_count": 12,
   "id": "0829b38f",
   "metadata": {},
   "outputs": [
    {
     "data": {
      "text/plain": [
       "Text(0.5, 1.0, 'Calories in each item')"
      ]
     },
     "execution_count": 12,
     "metadata": {},
     "output_type": "execute_result"
    },
    {
     "data": {
      "text/plain": [
       "<Figure size 1368x288 with 0 Axes>"
      ]
     },
     "metadata": {},
     "output_type": "display_data"
    },
    {
     "data": {
      "image/png": "[encoded data removed]",
      "text/plain": [
       "<Figure size 360x360 with 1 Axes>"
      ]
     },
     "metadata": {
      "needs_background": "light"
     },
     "output_type": "display_data"
    }
   ],
   "source": [
    "plt.figure(figsize=(19,4))\n",
    "sns.catplot(kind = 'bar', data = db, y='type', x = 'calories')\n",
    "plt.title('Calories in each item')"
   ]
  },
  {
   "cell_type": "code",
   "execution_count": 13,
   "id": "672a6628",
   "metadata": {},
   "outputs": [
    {
     "data": {
      "text/plain": [
       "Text(0.5, 1.0, 'Fat in each item')"
      ]
     },
     "execution_count": 13,
     "metadata": {},
     "output_type": "execute_result"
    },
    {
     "data": {
      "text/plain": [
       "<Figure size 1368x288 with 0 Axes>"
      ]
     },
     "metadata": {},
     "output_type": "display_data"
    },
    {
     "data": {
      "image/png": "[encoded data removed]",
      "text/plain": [
       "<Figure size 360x360 with 1 Axes>"
      ]
     },
     "metadata": {
      "needs_background": "light"
     },
     "output_type": "display_data"
    }
   ],
   "source": [
    "plt.figure(figsize=(19,4))\n",
    "sns.catplot(kind = 'bar', data = db, y='type', x = 'fat')\n",
    "plt.title('Fat in each item')"
   ]
  },
  {
   "cell_type": "code",
   "execution_count": 14,
   "id": "5edd3db8",
   "metadata": {},
   "outputs": [
    {
     "data": {
      "text/plain": [
       "Text(0.5, 1.0, 'Carb in each item')"
      ]
     },
     "execution_count": 14,
     "metadata": {},
     "output_type": "execute_result"
    },
    {
     "data": {
      "text/plain": [
       "<Figure size 1368x288 with 0 Axes>"
      ]
     },
     "metadata": {},
     "output_type": "display_data"
    },
    {
     "data": {
      "image/png": "[encoded data removed]",
      "text/plain": [
       "<Figure size 360x360 with 1 Axes>"
      ]
     },
     "metadata": {
      "needs_background": "light"
     },
     "output_type": "display_data"
    }
   ],
   "source": [
    "plt.figure(figsize=(19,4))\n",
    "sns.catplot(kind = 'bar', data = db, y='type', x = 'carb')\n",
    "plt.title('Carb in each item')"
   ]
  },
  {
   "cell_type": "code",
   "execution_count": 15,
   "id": "c76c421d",
   "metadata": {},
   "outputs": [
    {
     "data": {
      "text/plain": [
       "Text(0.5, 1.0, 'Fibers in each item')"
      ]
     },
     "execution_count": 15,
     "metadata": {},
     "output_type": "execute_result"
    },
    {
     "data": {
      "text/plain": [
       "<Figure size 1368x288 with 0 Axes>"
      ]
     },
     "metadata": {},
     "output_type": "display_data"
    },
    {
     "data": {
      "image/png": "[encoded data removed]",
      "text/plain": [
       "<Figure size 360x360 with 1 Axes>"
      ]
     },
     "metadata": {
      "needs_background": "light"
     },
     "output_type": "display_data"
    }
   ],
   "source": [
    "plt.figure(figsize=(19,4))\n",
    "sns.catplot(kind = 'bar', data = db, y='type', x = 'fiber')\n",
    "plt.title('Fibers in each item')"
   ]
  },
  {
   "cell_type": "code",
   "execution_count": 16,
   "id": "ac9de6fd",
   "metadata": {},
   "outputs": [
    {
     "data": {
      "text/plain": [
       "Text(0.5, 1.0, 'Protein in each item')"
      ]
     },
     "execution_count": 16,
     "metadata": {},
     "output_type": "execute_result"
    },
    {
     "data": {
      "text/plain": [
       "<Figure size 1368x288 with 0 Axes>"
      ]
     },
     "metadata": {},
     "output_type": "display_data"
    },
    {
     "data": {
      "image/png": "[encoded data removed]",
      "text/plain": [
       "<Figure size 360x360 with 1 Axes>"
      ]
     },
     "metadata": {
      "needs_background": "light"
     },
     "output_type": "display_data"
    }
   ],
   "source": [
    "plt.figure(figsize=(19,4))\n",
    "sns.catplot(kind = 'bar', data = db, y='type', x = 'protein')\n",
    "plt.title('Protein in each item')"
   ]
  },
  {
   "cell_type": "markdown",
   "id": "1bf895c7",
   "metadata": {},
   "source": [
    "### Top 10 calorie product"
   ]
  },
  {
   "cell_type": "code",
   "execution_count": 27,
   "id": "5342130b",
   "metadata": {},
   "outputs": [],
   "source": [
    "calories = db[db['calories']>=460]"
   ]
  },
  {
   "cell_type": "markdown",
   "id": "e2c8f531",
   "metadata": {},
   "source": [
    "Check with the most calories"
   ]
  },
  {
   "cell_type": "code",
   "execution_count": 28,
   "id": "ba763179",
   "metadata": {},
   "outputs": [
    {
     "name": "stdout",
     "output_type": "stream",
     "text": [
      "In the store, there are 11 products containing high calories.\n"
     ]
    }
   ],
   "source": [
    "most_calories = calories['item'].count()\n",
    "print('In the store, there are {} products containing high calories.'.format(most_calories))"
   ]
  },
  {
   "cell_type": "markdown",
   "id": "6b02ec8a",
   "metadata": {},
   "source": [
    "To print the top 11"
   ]
  },
  {
   "cell_type": "code",
   "execution_count": 36,
   "id": "23556540",
   "metadata": {},
   "outputs": [
    {
     "name": "stdout",
     "output_type": "stream",
     "text": [
      "Top 11 items containing high quantitiy of calories:\n",
      "\n",
      "Banana Nut Loaf\n",
      "Blueberry Scone\n",
      "Cinnamon Chip Scone\n",
      "Cranberry Orange Scone\n",
      "Iced Lemon Pound Cake\n",
      "Pumpkin Scone \n",
      "Raspberry Scone\n",
      "Zucchini Walnut Muffin \n",
      "Cheese & Fruit\n",
      "Sausage & Cheddar Classic Breakfast Sandwich\n",
      "Egg Salad Sandwich \n"
     ]
    }
   ],
   "source": [
    "calorie_list = calories['item'].tolist()\n",
    "print('Top 11 items containing high quantitiy of calories:\\n')\n",
    "for item in calorie_list:\n",
    "    print(item)"
   ]
  },
  {
   "cell_type": "code",
   "execution_count": 52,
   "id": "e4c7c220",
   "metadata": {},
   "outputs": [
    {
     "data": {
      "text/html": [
       "<div>\n",
       "<style scoped>\n",
       "    .dataframe tbody tr th:only-of-type {\n",
       "        vertical-align: middle;\n",
       "    }\n",
       "\n",
       "    .dataframe tbody tr th {\n",
       "        vertical-align: top;\n",
       "    }\n",
       "\n",
       "    .dataframe thead th {\n",
       "        text-align: right;\n",
       "    }\n",
       "</style>\n",
       "<table border=\"1\" class=\"dataframe\">\n",
       "  <thead>\n",
       "    <tr style=\"text-align: right;\">\n",
       "      <th></th>\n",
       "      <th>count</th>\n",
       "      <th>mean</th>\n",
       "      <th>std</th>\n",
       "      <th>min</th>\n",
       "      <th>25%</th>\n",
       "      <th>50%</th>\n",
       "      <th>75%</th>\n",
       "      <th>max</th>\n",
       "    </tr>\n",
       "  </thead>\n",
       "  <tbody>\n",
       "    <tr>\n",
       "      <th>Unnamed: 0</th>\n",
       "      <td>77.0</td>\n",
       "      <td>39.000000</td>\n",
       "      <td>22.371857</td>\n",
       "      <td>1.0</td>\n",
       "      <td>20.0</td>\n",
       "      <td>39.0</td>\n",
       "      <td>58.0</td>\n",
       "      <td>77.0</td>\n",
       "    </tr>\n",
       "    <tr>\n",
       "      <th>calories</th>\n",
       "      <td>77.0</td>\n",
       "      <td>338.831169</td>\n",
       "      <td>105.368701</td>\n",
       "      <td>80.0</td>\n",
       "      <td>300.0</td>\n",
       "      <td>350.0</td>\n",
       "      <td>420.0</td>\n",
       "      <td>500.0</td>\n",
       "    </tr>\n",
       "    <tr>\n",
       "      <th>fat</th>\n",
       "      <td>77.0</td>\n",
       "      <td>13.766234</td>\n",
       "      <td>7.095488</td>\n",
       "      <td>0.0</td>\n",
       "      <td>9.0</td>\n",
       "      <td>13.0</td>\n",
       "      <td>18.0</td>\n",
       "      <td>28.0</td>\n",
       "    </tr>\n",
       "    <tr>\n",
       "      <th>carb</th>\n",
       "      <td>77.0</td>\n",
       "      <td>44.870130</td>\n",
       "      <td>16.551634</td>\n",
       "      <td>16.0</td>\n",
       "      <td>31.0</td>\n",
       "      <td>45.0</td>\n",
       "      <td>59.0</td>\n",
       "      <td>80.0</td>\n",
       "    </tr>\n",
       "    <tr>\n",
       "      <th>fiber</th>\n",
       "      <td>77.0</td>\n",
       "      <td>2.220779</td>\n",
       "      <td>2.112764</td>\n",
       "      <td>0.0</td>\n",
       "      <td>0.0</td>\n",
       "      <td>2.0</td>\n",
       "      <td>4.0</td>\n",
       "      <td>7.0</td>\n",
       "    </tr>\n",
       "    <tr>\n",
       "      <th>protein</th>\n",
       "      <td>77.0</td>\n",
       "      <td>9.480519</td>\n",
       "      <td>8.079556</td>\n",
       "      <td>0.0</td>\n",
       "      <td>5.0</td>\n",
       "      <td>7.0</td>\n",
       "      <td>15.0</td>\n",
       "      <td>34.0</td>\n",
       "    </tr>\n",
       "  </tbody>\n",
       "</table>\n",
       "</div>"
      ],
      "text/plain": [
       "            count        mean         std   min    25%    50%    75%    max\n",
       "Unnamed: 0   77.0   39.000000   22.371857   1.0   20.0   39.0   58.0   77.0\n",
       "calories     77.0  338.831169  105.368701  80.0  300.0  350.0  420.0  500.0\n",
       "fat          77.0   13.766234    7.095488   0.0    9.0   13.0   18.0   28.0\n",
       "carb         77.0   44.870130   16.551634  16.0   31.0   45.0   59.0   80.0\n",
       "fiber        77.0    2.220779    2.112764   0.0    0.0    2.0    4.0    7.0\n",
       "protein      77.0    9.480519    8.079556   0.0    5.0    7.0   15.0   34.0"
      ]
     },
     "execution_count": 52,
     "metadata": {},
     "output_type": "execute_result"
    }
   ],
   "source": [
    "db.describe().transpose()"
   ]
  },
  {
   "cell_type": "markdown",
   "id": "5553ad94",
   "metadata": {},
   "source": [
    "### Top 11 fatty products"
   ]
  },
  {
   "cell_type": "code",
   "execution_count": 56,
   "id": "771c988f",
   "metadata": {},
   "outputs": [],
   "source": [
    "fats = db[db['fat']>=22]"
   ]
  },
  {
   "cell_type": "code",
   "execution_count": 57,
   "id": "fa8a40ef",
   "metadata": {},
   "outputs": [
    {
     "name": "stdout",
     "output_type": "stream",
     "text": [
      "In the store, there are 11 products containing high fats.\n"
     ]
    }
   ],
   "source": [
    "most_fat = fats['item'].count()\n",
    "print('In the store, there are {} products containing high fats.'.format(most_fat))"
   ]
  },
  {
   "cell_type": "code",
   "execution_count": 58,
   "id": "fca3a6cb",
   "metadata": {},
   "outputs": [
    {
     "name": "stdout",
     "output_type": "stream",
     "text": [
      "Top 11 items containing high quantitiy of fats:\n",
      "\n",
      "Blueberry Scone\n",
      "Cheese Danish\n",
      "Double Chocolate Brownie\n",
      "Iced Lemon Pound Cake\n",
      "Mallorca Sweet Bread\n",
      "Raspberry Scone\n",
      "Zucchini Walnut Muffin \n",
      "Cheese & Fruit\n",
      "Salumi & Cheese\n",
      "Sausage & Cheddar Classic Breakfast Sandwich\n",
      "Egg Salad Sandwich \n"
     ]
    }
   ],
   "source": [
    "fat_list = fats['item'].tolist()\n",
    "print('Top 11 items containing high quantitiy of fats:\\n')\n",
    "for item in fat_list:\n",
    "    print(item)"
   ]
  },
  {
   "cell_type": "markdown",
   "id": "7a7c64ee",
   "metadata": {},
   "source": [
    "### Top 11 foods that contains carb"
   ]
  },
  {
   "cell_type": "code",
   "execution_count": 61,
   "id": "3388824c",
   "metadata": {},
   "outputs": [],
   "source": [
    "carb = db[db['carb']>=62]"
   ]
  },
  {
   "cell_type": "code",
   "execution_count": 62,
   "id": "05d81405",
   "metadata": {},
   "outputs": [
    {
     "name": "stdout",
     "output_type": "stream",
     "text": [
      "In the store, there are 11 products containing high carb.\n"
     ]
    }
   ],
   "source": [
    "most_carb = carb['item'].count()\n",
    "print('In the store, there are {} products containing high carb.'.format(most_carb))"
   ]
  },
  {
   "cell_type": "code",
   "execution_count": 63,
   "id": "6e274734",
   "metadata": {},
   "outputs": [
    {
     "name": "stdout",
     "output_type": "stream",
     "text": [
      "Top 11 items containing high quantitiy of carb:\n",
      "\n",
      "8-Grain Roll\n",
      "Apple Bran Muffin\n",
      "Banana Nut Loaf\n",
      "Cinnamon Chip Scone\n",
      "Cranberry Orange Scone\n",
      "Iced Lemon Pound Cake\n",
      "Pumpkin Scone \n",
      "Raspberry Swirl Pound Cake\n",
      "Reduced-Fat Banana Chocolate Chip Coffee Cake\n",
      "Reduced-Fat Cinnamon Swirl Coffee Cake\n",
      "Starbucks Classic Coffee Cake\n"
     ]
    }
   ],
   "source": [
    "carblist = carb['item'].tolist()\n",
    "print('Top 11 items containing high quantitiy of carb:\\n')\n",
    "for item in carblist:\n",
    "    print(item)"
   ]
  },
  {
   "cell_type": "code",
   "execution_count": 64,
   "id": "cf0a4adb",
   "metadata": {},
   "outputs": [
    {
     "data": {
      "text/html": [
       "<div>\n",
       "<style scoped>\n",
       "    .dataframe tbody tr th:only-of-type {\n",
       "        vertical-align: middle;\n",
       "    }\n",
       "\n",
       "    .dataframe tbody tr th {\n",
       "        vertical-align: top;\n",
       "    }\n",
       "\n",
       "    .dataframe thead th {\n",
       "        text-align: right;\n",
       "    }\n",
       "</style>\n",
       "<table border=\"1\" class=\"dataframe\">\n",
       "  <thead>\n",
       "    <tr style=\"text-align: right;\">\n",
       "      <th></th>\n",
       "      <th>count</th>\n",
       "      <th>mean</th>\n",
       "      <th>std</th>\n",
       "      <th>min</th>\n",
       "      <th>25%</th>\n",
       "      <th>50%</th>\n",
       "      <th>75%</th>\n",
       "      <th>max</th>\n",
       "    </tr>\n",
       "  </thead>\n",
       "  <tbody>\n",
       "    <tr>\n",
       "      <th>Unnamed: 0</th>\n",
       "      <td>77.0</td>\n",
       "      <td>39.000000</td>\n",
       "      <td>22.371857</td>\n",
       "      <td>1.0</td>\n",
       "      <td>20.0</td>\n",
       "      <td>39.0</td>\n",
       "      <td>58.0</td>\n",
       "      <td>77.0</td>\n",
       "    </tr>\n",
       "    <tr>\n",
       "      <th>calories</th>\n",
       "      <td>77.0</td>\n",
       "      <td>338.831169</td>\n",
       "      <td>105.368701</td>\n",
       "      <td>80.0</td>\n",
       "      <td>300.0</td>\n",
       "      <td>350.0</td>\n",
       "      <td>420.0</td>\n",
       "      <td>500.0</td>\n",
       "    </tr>\n",
       "    <tr>\n",
       "      <th>fat</th>\n",
       "      <td>77.0</td>\n",
       "      <td>13.766234</td>\n",
       "      <td>7.095488</td>\n",
       "      <td>0.0</td>\n",
       "      <td>9.0</td>\n",
       "      <td>13.0</td>\n",
       "      <td>18.0</td>\n",
       "      <td>28.0</td>\n",
       "    </tr>\n",
       "    <tr>\n",
       "      <th>carb</th>\n",
       "      <td>77.0</td>\n",
       "      <td>44.870130</td>\n",
       "      <td>16.551634</td>\n",
       "      <td>16.0</td>\n",
       "      <td>31.0</td>\n",
       "      <td>45.0</td>\n",
       "      <td>59.0</td>\n",
       "      <td>80.0</td>\n",
       "    </tr>\n",
       "    <tr>\n",
       "      <th>fiber</th>\n",
       "      <td>77.0</td>\n",
       "      <td>2.220779</td>\n",
       "      <td>2.112764</td>\n",
       "      <td>0.0</td>\n",
       "      <td>0.0</td>\n",
       "      <td>2.0</td>\n",
       "      <td>4.0</td>\n",
       "      <td>7.0</td>\n",
       "    </tr>\n",
       "    <tr>\n",
       "      <th>protein</th>\n",
       "      <td>77.0</td>\n",
       "      <td>9.480519</td>\n",
       "      <td>8.079556</td>\n",
       "      <td>0.0</td>\n",
       "      <td>5.0</td>\n",
       "      <td>7.0</td>\n",
       "      <td>15.0</td>\n",
       "      <td>34.0</td>\n",
       "    </tr>\n",
       "  </tbody>\n",
       "</table>\n",
       "</div>"
      ],
      "text/plain": [
       "            count        mean         std   min    25%    50%    75%    max\n",
       "Unnamed: 0   77.0   39.000000   22.371857   1.0   20.0   39.0   58.0   77.0\n",
       "calories     77.0  338.831169  105.368701  80.0  300.0  350.0  420.0  500.0\n",
       "fat          77.0   13.766234    7.095488   0.0    9.0   13.0   18.0   28.0\n",
       "carb         77.0   44.870130   16.551634  16.0   31.0   45.0   59.0   80.0\n",
       "fiber        77.0    2.220779    2.112764   0.0    0.0    2.0    4.0    7.0\n",
       "protein      77.0    9.480519    8.079556   0.0    5.0    7.0   15.0   34.0"
      ]
     },
     "execution_count": 64,
     "metadata": {},
     "output_type": "execute_result"
    }
   ],
   "source": [
    "db.describe().transpose()"
   ]
  },
  {
   "cell_type": "markdown",
   "id": "fcba8cbd",
   "metadata": {},
   "source": [
    "### Top 8 foods that contains fiber"
   ]
  },
  {
   "cell_type": "code",
   "execution_count": 73,
   "id": "543b6bb8",
   "metadata": {},
   "outputs": [],
   "source": [
    "fiber = db[db['fiber']>=6]"
   ]
  },
  {
   "cell_type": "code",
   "execution_count": 72,
   "id": "c6d57e10",
   "metadata": {},
   "outputs": [
    {
     "name": "stdout",
     "output_type": "stream",
     "text": [
      "In the store, there are 8 products containing high fiber.\n"
     ]
    }
   ],
   "source": [
    "most_fiber = fiber['item'].count()\n",
    "print('In the store, there are {} products containing high fiber.'.format(most_fiber))"
   ]
  },
  {
   "cell_type": "code",
   "execution_count": 74,
   "id": "19328c56",
   "metadata": {},
   "outputs": [
    {
     "name": "stdout",
     "output_type": "stream",
     "text": [
      "Top 11 items containing high quantitiy of fiber:\n",
      "\n",
      "Apple Bran Muffin\n",
      "Multigrain Bagel\n",
      "Cheese & Fruit\n",
      "Chicken & Hummus\n",
      "Chipotle Chicken Wraps\n",
      "Sesame Noodles\n",
      "Spinach & Feta Breakfast Wrap\n",
      "Tarragon Chicken Salad Sandwich\n"
     ]
    }
   ],
   "source": [
    "fiberlist = fiber['item'].tolist()\n",
    "print('Top 11 items containing high quantitiy of fiber:\\n')\n",
    "for item in fiberlist:\n",
    "    print(item)"
   ]
  },
  {
   "cell_type": "markdown",
   "id": "0a72ab6f",
   "metadata": {},
   "source": [
    "### Top 11 foods that contains high protein"
   ]
  },
  {
   "cell_type": "code",
   "execution_count": 79,
   "id": "347de317",
   "metadata": {},
   "outputs": [],
   "source": [
    "protein = db[db['protein']>18]"
   ]
  },
  {
   "cell_type": "code",
   "execution_count": 80,
   "id": "a6e00c2b",
   "metadata": {},
   "outputs": [
    {
     "name": "stdout",
     "output_type": "stream",
     "text": [
      "In the store, there are 11 products containing high protein.\n"
     ]
    }
   ],
   "source": [
    "most_protein = protein['item'].count()\n",
    "print('In the store, there are {} products containing high protein.'.format(most_protein))"
   ]
  },
  {
   "cell_type": "code",
   "execution_count": 81,
   "id": "47b788cf",
   "metadata": {},
   "outputs": [
    {
     "name": "stdout",
     "output_type": "stream",
     "text": [
      "Top 11 items containing high quantitiy of protein:\n",
      "\n",
      "Chipotle Chicken Wraps\n",
      "Salumi & Cheese\n",
      "Tuna Salad\n",
      "Ham & Cheddar Artisan Breakfast Sandwich\n",
      "Sausage & Cheddar Classic Breakfast Sandwich\n",
      "Spinach & Feta Breakfast Wrap\n",
      "Chicken Santa Fe Panini\n",
      "Egg Salad Sandwich \n",
      "Ham & Swiss Panini\n",
      "Tarragon Chicken Salad Sandwich\n",
      "Turkey & Swiss Sandwich\n"
     ]
    }
   ],
   "source": [
    "proteinlist = protein['item'].tolist()\n",
    "print('Top 11 items containing high quantitiy of protein:\\n')\n",
    "for item in proteinlist:\n",
    "    print(item)"
   ]
  },
  {
   "cell_type": "code",
   "execution_count": 82,
   "id": "98875ed6",
   "metadata": {},
   "outputs": [
    {
     "data": {
      "text/plain": [
       "Text(0.5, 1.0, 'Fat vs Calories ')"
      ]
     },
     "execution_count": 82,
     "metadata": {},
     "output_type": "execute_result"
    },
    {
     "data": {
      "image/png": "[encoded data removed]",
      "text/plain": [
       "<Figure size 432x288 with 1 Axes>"
      ]
     },
     "metadata": {
      "needs_background": "light"
     },
     "output_type": "display_data"
    }
   ],
   "source": [
    "sns.scatterplot(x='fat',y='calories',data=db,hue='type')\n",
    "plt.title(\"Fat vs Calories \")"
   ]
  },
  {
   "cell_type": "code",
   "execution_count": 84,
   "id": "683e27c7",
   "metadata": {},
   "outputs": [
    {
     "data": {
      "text/plain": [
       "Text(0.5, 1.0, 'Fat vs Protein ')"
      ]
     },
     "execution_count": 84,
     "metadata": {},
     "output_type": "execute_result"
    },
    {
     "data": {
      "image/png": "[encoded data removed]",
      "text/plain": [
       "<Figure size 432x288 with 1 Axes>"
      ]
     },
     "metadata": {
      "needs_background": "light"
     },
     "output_type": "display_data"
    }
   ],
   "source": [
    "sns.scatterplot(x='fat',y='protein',data=db,hue='type')\n",
    "plt.title(\"Fat vs Protein \")"
   ]
  },
  {
   "cell_type": "markdown",
   "id": "e7d8753f",
   "metadata": {},
   "source": [
    "Starbucks has a diverse range of bakery products containing more fats than protein"
   ]
  },
  {
   "cell_type": "code",
   "execution_count": 85,
   "id": "c6b9a971",
   "metadata": {},
   "outputs": [
    {
     "data": {
      "text/plain": [
       "Text(0.5, 1.0, 'calories vs Protein ')"
      ]
     },
     "execution_count": 85,
     "metadata": {},
     "output_type": "execute_result"
    },
    {
     "data": {
      "image/png": "[encoded data removed]",
      "text/plain": [
       "<Figure size 432x288 with 1 Axes>"
      ]
     },
     "metadata": {
      "needs_background": "light"
     },
     "output_type": "display_data"
    }
   ],
   "source": [
    "sns.scatterplot(x='calories',y='protein',data=db,hue='type')\n",
    "plt.title(\"calories vs Protein \")"
   ]
  },
  {
   "cell_type": "markdown",
   "id": "3709d527",
   "metadata": {},
   "source": [
    "Starbucks has a diverse range of bakery products containing more calories than protein"
   ]
  }
 ],
 "metadata": {
  "kernelspec": {
   "display_name": "Python 3 (ipykernel)",
   "language": "python",
   "name": "python3"
  },
  "language_info": {
   "codemirror_mode": {
    "name": "ipython",
    "version": 3
   },
   "file_extension": ".py",
   "mimetype": "text/x-python",
   "name": "python",
   "nbconvert_exporter": "python",
   "pygments_lexer": "ipython3",
   "version": "3.9.12"
  }
 },
 "nbformat": 4,
 "nbformat_minor": 5
}
